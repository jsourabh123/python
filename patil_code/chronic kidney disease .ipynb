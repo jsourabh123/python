{
 "cells": [
  {
   "cell_type": "code",
   "execution_count": 1,
   "metadata": {},
   "outputs": [],
   "source": [
    "from sklearn.metrics import confusion_matrix ,classification_report,precision_score, recall_score ,f1_score, roc_curve, roc_auc_score \n",
    "from sklearn.model_selection import train_test_split\n",
    "from sklearn.linear_model import LogisticRegression \n",
    "from sklearn.ensemble import RandomForestClassifier\n",
    "from sklearn.neighbors import KNeighborsClassifier\n",
    "from sklearn.tree import DecisionTreeClassifier\n",
    "from sklearn.naive_bayes import GaussianNB\n",
    "from sklearn.svm import SVC\n",
    "\n",
    "import matplotlib.pyplot as plt\n",
    "import seaborn as sns\n",
    "import pandas as pd\n",
    "import numpy as np\n",
    "import warnings\n",
    "warnings.filterwarnings('ignore')"
   ]
  },
  {
   "cell_type": "code",
   "execution_count": 3,
   "metadata": {},
   "outputs": [],
   "source": [
    "data = pd.read_csv(r'C:\\Users\\SHREYAN\\Documents\\ICPSR_06693\\chronic disease Identification\\kidney_disease.csv')"
   ]
  },
  {
   "cell_type": "code",
   "execution_count": 13,
   "metadata": {},
   "outputs": [
    {
     "name": "stdout",
     "output_type": "stream",
     "text": [
      "           age        bp        sg        al        su       bgr        bu  \\\n",
      "age   1.000000  0.159480 -0.191096  0.122091  0.220866  0.244992  0.196985   \n",
      "bp    0.159480  1.000000 -0.218836  0.160689  0.222576  0.160193  0.188517   \n",
      "sg   -0.191096 -0.218836  1.000000 -0.469760 -0.296234 -0.374710 -0.314295   \n",
      "al    0.122091  0.160689 -0.469760  1.000000  0.269305  0.379464  0.453528   \n",
      "su    0.220866  0.222576 -0.296234  0.269305  1.000000  0.717827  0.168583   \n",
      "bgr   0.244992  0.160193 -0.374710  0.379464  0.717827  1.000000  0.143322   \n",
      "bu    0.196985  0.188517 -0.314295  0.453528  0.168583  0.143322  1.000000   \n",
      "sc    0.132531  0.146222 -0.361473  0.399198  0.223244  0.114875  0.586368   \n",
      "sod  -0.100046 -0.116422  0.412190 -0.459896 -0.131776 -0.267848 -0.323054   \n",
      "pot   0.058377  0.075151 -0.072787  0.129038  0.219450  0.066966  0.357049   \n",
      "hemo -0.192928 -0.306540  0.602582 -0.634632 -0.224775 -0.306189 -0.610360   \n",
      "\n",
      "            sc       sod       pot      hemo  \n",
      "age   0.132531 -0.100046  0.058377 -0.192928  \n",
      "bp    0.146222 -0.116422  0.075151 -0.306540  \n",
      "sg   -0.361473  0.412190 -0.072787  0.602582  \n",
      "al    0.399198 -0.459896  0.129038 -0.634632  \n",
      "su    0.223244 -0.131776  0.219450 -0.224775  \n",
      "bgr   0.114875 -0.267848  0.066966 -0.306189  \n",
      "bu    0.586368 -0.323054  0.357049 -0.610360  \n",
      "sc    1.000000 -0.690158  0.326107 -0.401670  \n",
      "sod  -0.690158  1.000000  0.097887  0.365183  \n",
      "pot   0.326107  0.097887  1.000000 -0.133746  \n",
      "hemo -0.401670  0.365183 -0.133746  1.000000  \n"
     ]
    },
    {
     "data": {
      "text/plain": [
       "<AxesSubplot:>"
      ]
     },
     "execution_count": 13,
     "metadata": {},
     "output_type": "execute_result"
    },
    {
     "data": {
      "image/png": "[encoded data removed]",
      "text/plain": [
       "<Figure size 432x288 with 2 Axes>"
      ]
     },
     "metadata": {
      "needs_background": "light"
     },
     "output_type": "display_data"
    }
   ],
   "source": [
    "data_num = data[['age','bp','sg','al','su','bgr','bu','sc','sod','pot','hemo']]\n",
    "data_cat = data[['rbc','pc','pcc','ba','pcv','wc','rc','htn','dm','cad','appet','pe','ane']]\n",
    "filna = data[['id', 'age', 'bp', 'sg', 'al', 'su', 'rbc', 'pc', 'pcc', 'ba', 'bgr',\n",
    "       'bu', 'sc', 'sod', 'pot', 'hemo', 'pcv', 'wc', 'rc', 'htn', 'dm', 'cad',\n",
    "       'appet', 'pe', 'ane', 'classification']]\n",
    "print(data_num.corr())\n",
    "sns.heatmap(data_num.corr())"
   ]
  },
  {
   "cell_type": "code",
   "execution_count": 14,
   "metadata": {},
   "outputs": [
    {
     "data": {
      "text/html": [
       "<div>\n",
       "<style scoped>\n",
       "    .dataframe tbody tr th:only-of-type {\n",
       "        vertical-align: middle;\n",
       "    }\n",
       "\n",
       "    .dataframe tbody tr th {\n",
       "        vertical-align: top;\n",
       "    }\n",
       "\n",
       "    .dataframe thead th {\n",
       "        text-align: right;\n",
       "    }\n",
       "</style>\n",
       "<table border=\"1\" class=\"dataframe\">\n",
       "  <thead>\n",
       "    <tr style=\"text-align: right;\">\n",
       "      <th></th>\n",
       "      <th>age</th>\n",
       "      <th>al</th>\n",
       "      <th>bgr</th>\n",
       "      <th>bp</th>\n",
       "      <th>bu</th>\n",
       "      <th>hemo</th>\n",
       "      <th>pot</th>\n",
       "      <th>sc</th>\n",
       "      <th>sg</th>\n",
       "      <th>sod</th>\n",
       "      <th>su</th>\n",
       "    </tr>\n",
       "    <tr>\n",
       "      <th>classification</th>\n",
       "      <th></th>\n",
       "      <th></th>\n",
       "      <th></th>\n",
       "      <th></th>\n",
       "      <th></th>\n",
       "      <th></th>\n",
       "      <th></th>\n",
       "      <th></th>\n",
       "      <th></th>\n",
       "      <th></th>\n",
       "      <th></th>\n",
       "    </tr>\n",
       "  </thead>\n",
       "  <tbody>\n",
       "    <tr>\n",
       "      <th>0</th>\n",
       "      <td>46.516779</td>\n",
       "      <td>0.000000</td>\n",
       "      <td>107.722222</td>\n",
       "      <td>71.351351</td>\n",
       "      <td>32.798611</td>\n",
       "      <td>15.188194</td>\n",
       "      <td>4.337931</td>\n",
       "      <td>0.868966</td>\n",
       "      <td>1.022414</td>\n",
       "      <td>141.731034</td>\n",
       "      <td>0.000000</td>\n",
       "    </tr>\n",
       "    <tr>\n",
       "      <th>1</th>\n",
       "      <td>54.425000</td>\n",
       "      <td>1.721154</td>\n",
       "      <td>175.523810</td>\n",
       "      <td>79.705882</td>\n",
       "      <td>72.656170</td>\n",
       "      <td>10.652217</td>\n",
       "      <td>4.883030</td>\n",
       "      <td>4.430720</td>\n",
       "      <td>1.013937</td>\n",
       "      <td>133.882530</td>\n",
       "      <td>0.770732</td>\n",
       "    </tr>\n",
       "    <tr>\n",
       "      <th>ckd\\t</th>\n",
       "      <td>68.500000</td>\n",
       "      <td>2.000000</td>\n",
       "      <td>164.500000</td>\n",
       "      <td>70.000000</td>\n",
       "      <td>41.000000</td>\n",
       "      <td>9.700000</td>\n",
       "      <td>4.500000</td>\n",
       "      <td>2.550000</td>\n",
       "      <td>1.010000</td>\n",
       "      <td>135.500000</td>\n",
       "      <td>0.000000</td>\n",
       "    </tr>\n",
       "  </tbody>\n",
       "</table>\n",
       "</div>"
      ],
      "text/plain": [
       "                      age        al         bgr         bp         bu  \\\n",
       "classification                                                          \n",
       "0               46.516779  0.000000  107.722222  71.351351  32.798611   \n",
       "1               54.425000  1.721154  175.523810  79.705882  72.656170   \n",
       "ckd\\t           68.500000  2.000000  164.500000  70.000000  41.000000   \n",
       "\n",
       "                     hemo       pot        sc        sg         sod        su  \n",
       "classification                                                                 \n",
       "0               15.188194  4.337931  0.868966  1.022414  141.731034  0.000000  \n",
       "1               10.652217  4.883030  4.430720  1.013937  133.882530  0.770732  \n",
       "ckd\\t            9.700000  4.500000  2.550000  1.010000  135.500000  0.000000  "
      ]
     },
     "execution_count": 14,
     "metadata": {},
     "output_type": "execute_result"
    }
   ],
   "source": [
    "pd.pivot_table(data, index='classification', values=['age','bp','sg','al','su','bgr','bu','sc','sod','pot','hemo'])"
   ]
  },
  {
   "cell_type": "code",
   "execution_count": 26,
   "metadata": {},
   "outputs": [],
   "source": [
    "data.rc.replace(\"\\t?\",data.rc.mode()[0], inplace=True)\n",
    "data.rc = data.rc.apply(lambda x: float(x))\n",
    "\n",
    "data.wc.replace(\"\\t?\",data.wc.mode()[0], inplace=True)\n",
    "data.wc = data.wc.apply(lambda x: float(x))\n",
    "\n",
    "\n",
    "data.pcv.replace([\"\\t?\",\"\\t43\"],data.pcv.mode()[0], inplace=True)\n",
    "data.pcv = data.pcv.apply(lambda x: float(x))\n",
    "\n",
    "data.classification.replace([\"ckd\",\"notckd\"],[1,0], inplace=True)\n",
    "data.classification.replace([\"ckd\\t\"],[1], inplace=True)"
   ]
  },
  {
   "cell_type": "code",
   "execution_count": 27,
   "metadata": {},
   "outputs": [],
   "source": [
    "data_final_num = data[['age','bp','sg','al','su','bgr','bu','sc','sod','pot','hemo','pcv','wc','rc']]\n",
    "data_fincal_cat = data[['rbc','pc','pcc','ba','htn','dm','cad','appet','pe','ane']]"
   ]
  },
  {
   "cell_type": "code",
   "execution_count": 28,
   "metadata": {},
   "outputs": [
    {
     "data": {
      "text/html": [
       "<div>\n",
       "<style scoped>\n",
       "    .dataframe tbody tr th:only-of-type {\n",
       "        vertical-align: middle;\n",
       "    }\n",
       "\n",
       "    .dataframe tbody tr th {\n",
       "        vertical-align: top;\n",
       "    }\n",
       "\n",
       "    .dataframe thead th {\n",
       "        text-align: right;\n",
       "    }\n",
       "</style>\n",
       "<table border=\"1\" class=\"dataframe\">\n",
       "  <thead>\n",
       "    <tr style=\"text-align: right;\">\n",
       "      <th></th>\n",
       "      <th>age</th>\n",
       "      <th>al</th>\n",
       "      <th>bgr</th>\n",
       "      <th>bp</th>\n",
       "      <th>bu</th>\n",
       "      <th>hemo</th>\n",
       "      <th>pcv</th>\n",
       "      <th>pot</th>\n",
       "      <th>rc</th>\n",
       "      <th>sc</th>\n",
       "      <th>sg</th>\n",
       "      <th>sod</th>\n",
       "      <th>su</th>\n",
       "      <th>wc</th>\n",
       "    </tr>\n",
       "    <tr>\n",
       "      <th>classification</th>\n",
       "      <th></th>\n",
       "      <th></th>\n",
       "      <th></th>\n",
       "      <th></th>\n",
       "      <th></th>\n",
       "      <th></th>\n",
       "      <th></th>\n",
       "      <th></th>\n",
       "      <th></th>\n",
       "      <th></th>\n",
       "      <th></th>\n",
       "      <th></th>\n",
       "      <th></th>\n",
       "      <th></th>\n",
       "    </tr>\n",
       "  </thead>\n",
       "  <tbody>\n",
       "    <tr>\n",
       "      <th>0</th>\n",
       "      <td>46.573333</td>\n",
       "      <td>0.00</td>\n",
       "      <td>108.253333</td>\n",
       "      <td>71.466667</td>\n",
       "      <td>33.166667</td>\n",
       "      <td>15.086667</td>\n",
       "      <td>46.166667</td>\n",
       "      <td>4.3400</td>\n",
       "      <td>5.302667</td>\n",
       "      <td>0.883333</td>\n",
       "      <td>1.022333</td>\n",
       "      <td>141.606667</td>\n",
       "      <td>0.0</td>\n",
       "      <td>7719.333333</td>\n",
       "    </tr>\n",
       "    <tr>\n",
       "      <th>1</th>\n",
       "      <td>54.692000</td>\n",
       "      <td>1.44</td>\n",
       "      <td>149.466000</td>\n",
       "      <td>78.440000</td>\n",
       "      <td>60.544300</td>\n",
       "      <td>11.026400</td>\n",
       "      <td>34.928000</td>\n",
       "      <td>4.4084</td>\n",
       "      <td>4.451600</td>\n",
       "      <td>25.767700</td>\n",
       "      <td>1.015010</td>\n",
       "      <td>136.184000</td>\n",
       "      <td>0.0</td>\n",
       "      <td>8446.150000</td>\n",
       "    </tr>\n",
       "  </tbody>\n",
       "</table>\n",
       "</div>"
      ],
      "text/plain": [
       "                      age    al         bgr         bp         bu       hemo  \\\n",
       "classification                                                                 \n",
       "0               46.573333  0.00  108.253333  71.466667  33.166667  15.086667   \n",
       "1               54.692000  1.44  149.466000  78.440000  60.544300  11.026400   \n",
       "\n",
       "                      pcv     pot        rc         sc        sg         sod  \\\n",
       "classification                                                                 \n",
       "0               46.166667  4.3400  5.302667   0.883333  1.022333  141.606667   \n",
       "1               34.928000  4.4084  4.451600  25.767700  1.015010  136.184000   \n",
       "\n",
       "                 su           wc  \n",
       "classification                    \n",
       "0               0.0  7719.333333  \n",
       "1               0.0  8446.150000  "
      ]
     },
     "execution_count": 28,
     "metadata": {},
     "output_type": "execute_result"
    }
   ],
   "source": [
    "pd.pivot_table(data, index='classification', values=['age','bp','sg','al','su','bgr','bu','sc','sod','pot','hemo','pcv','wc','rc'])"
   ]
  },
  {
   "cell_type": "code",
   "execution_count": 29,
   "metadata": {},
   "outputs": [],
   "source": [
    "for i in filna.columns:\n",
    "    if data[i].isna().sum() > 0 :\n",
    "        if data[i].dtype == 'float64':\n",
    "            data[i].fillna(data[i].median(), inplace=True)\n",
    "        else:\n",
    "            data[i].fillna(data[i].mode()[0], inplace=True)"
   ]
  },
  {
   "cell_type": "code",
   "execution_count": 30,
   "metadata": {},
   "outputs": [],
   "source": [
    "def outlinefree(dataCol):    \n",
    "    sorted(dataCol)\n",
    "    Q1,Q3 = np.percentile(dataCol,[25,75])   \n",
    "    IQR = Q3-Q1   \n",
    "    LowerRange = Q1-(1.5 * IQR)   \n",
    "    UpperRange = Q3+(1.5 * IQR)   \n",
    "    return LowerRange,UpperRange"
   ]
  },
  {
   "cell_type": "code",
   "execution_count": 31,
   "metadata": {},
   "outputs": [],
   "source": [
    "Lowage,Upage = outlinefree(data.age)\n",
    "Lowbp,Upbp = outlinefree(data.bp)\n",
    "Lowsg,Upsg = outlinefree(data.sg)\n",
    "Lowal,Upal = outlinefree(data.al)\n",
    "Lowsu,Upsu = outlinefree(data.su)\n",
    "Lowbgr,Upbgr = outlinefree(data.bgr)\n",
    "Lowbu,Upbu = outlinefree(data.bu)\n",
    "Lowsc,Upsc = outlinefree(data.sc)\n",
    "Lowsod,Upsod = outlinefree(data.sod)\n",
    "Lowpot,Uppot = outlinefree(data.pot)\n",
    "Lowhemo,Uphemo = outlinefree(data.hemo)\n",
    "Lowpcv,Uppcv = outlinefree(data.pcv)\n",
    "Lowwc,Upwc = outlinefree(data.wc)\n",
    "Lowrc,Uprc = outlinefree(data.rc)"
   ]
  },
  {
   "cell_type": "code",
   "execution_count": 32,
   "metadata": {},
   "outputs": [],
   "source": [
    "data.age.replace(list(data[(data.age < Lowage)].age),Lowage , inplace=True)\n",
    "data.age.replace(list(data[(data.age > Upage)].age),Upage , inplace=True)\n",
    "\n",
    "data.bp.replace(list(data[(data.bp < Lowbp)].bp),Lowbp , inplace=True)\n",
    "data.bp.replace(list(data[(data.bp > Upbp)].bp),Upbp , inplace=True)\n",
    "\n",
    "data.sg.replace(list(data[(data.sg < Lowsg)].sg),Lowsg , inplace=True)\n",
    "data.sg.replace(list(data[(data.sg > Upsg)].sg),Upsg , inplace=True)\n",
    "\n",
    "data.al.replace(list(data[(data.al < Lowal)].al),Lowal , inplace=True)\n",
    "data.al.replace(list(data[(data.al > Upal)].al),Upal , inplace=True)\n",
    "\n",
    "data.su.replace(list(data[(data.su < Lowsu)].su),Lowsu , inplace=True)\n",
    "data.su.replace(list(data[(data.su > Upsu)].su),Upsu , inplace=True)\n",
    "\n",
    "data.bgr.replace(list(data[(data.bgr < Lowbgr)].bgr),Lowbgr , inplace=True)\n",
    "data.bgr.replace(list(data[(data.bgr > Upbgr)].bgr),Upbgr , inplace=True)\n",
    "\n",
    "data.bu.replace(list(data[(data.bu < Lowbu)].bu),Lowbu , inplace=True)\n",
    "data.bu.replace(list(data[(data.bu > Upbu)].bu),Upbu , inplace=True)\n",
    "\n",
    "data.sc.replace(list(data[(data.sc < Lowsc)].sc),Lowbu , inplace=True)\n",
    "data.sc.replace(list(data[(data.sc > Upsc)].sc),Upbu , inplace=True)\n",
    "\n",
    "data.sod.replace(list(data[(data.sod < Lowsod)].sod),Lowsod , inplace=True)\n",
    "data.sod.replace(list(data[(data.sod > Upsod)].sod),Upsod , inplace=True)\n",
    "\n",
    "data.pot.replace(list(data[(data.pot < Lowpot)].pot),Lowpot , inplace=True)\n",
    "data.pot.replace(list(data[(data.pot > Uppot)].pot),Uppot , inplace=True)\n",
    "\n",
    "data.hemo.replace(list(data[(data.hemo < Lowhemo)].hemo),Lowhemo , inplace=True)\n",
    "data.hemo.replace(list(data[(data.hemo > Uphemo)].hemo),Uphemo , inplace=True)\n",
    "\n",
    "data.pcv.replace(list(data[(data.pcv < Lowpcv)].pcv),Lowpcv , inplace=True)\n",
    "data.pcv.replace(list(data[(data.pcv > Uppcv)].pcv),Uppcv , inplace=True)\n",
    "\n",
    "data.wc.replace(list(data[(data.wc < Lowwc)].wc),Lowwc , inplace=True)\n",
    "data.wc.replace(list(data[(data.wc > Upwc)].wc),Upwc , inplace=True)\n",
    "\n",
    "data.rc.replace(list(data[(data.rc < Lowrc)].rc),Lowrc , inplace=True)\n",
    "data.rc.replace(list(data[(data.rc > Uprc)].rc),Uprc , inplace=True)"
   ]
  },
  {
   "cell_type": "code",
   "execution_count": 75,
   "metadata": {},
   "outputs": [],
   "source": [
    "finaldata = data.loc[:,['classification','age','bp','al','bgr','bu','sc','hemo','pcv','wc','rc']]"
   ]
  },
  {
   "cell_type": "code",
   "execution_count": 76,
   "metadata": {},
   "outputs": [],
   "source": [
    "final_dataset = pd.get_dummies(finaldata)"
   ]
  },
  {
   "cell_type": "code",
   "execution_count": 77,
   "metadata": {},
   "outputs": [],
   "source": [
    "features = final_dataset.iloc[:,1:].values\n",
    "label = final_dataset.iloc[:,0].values"
   ]
  },
  {
   "cell_type": "code",
   "execution_count": 78,
   "metadata": {},
   "outputs": [
    {
     "name": "stdout",
     "output_type": "stream",
     "text": [
      " f1 score:  0.9649122807017544\n",
      "[[41  1]\n",
      " [ 3 55]]\n"
     ]
    }
   ],
   "source": [
    "X_train, X_test, y_train, y_test= train_test_split(features,label, test_size= 0.25, random_state=112)\n",
    "\n",
    "classimodel= LogisticRegression()  \n",
    "classimodel.fit(X_train,y_train)\n",
    "trainscore =  classimodel.score(X_train,y_train)\n",
    "testscore =  classimodel.score(X_test,y_test)  \n",
    "\n",
    "y_pred =  classimodel.predict(X_test)\n",
    "print(' f1 score: ',f1_score(y_test, y_pred))\n",
    "print(confusion_matrix(y_test, y_pred))"
   ]
  },
  {
   "cell_type": "code",
   "execution_count": 79,
   "metadata": {},
   "outputs": [
    {
     "name": "stdout",
     "output_type": "stream",
     "text": [
      " precision score:  0.9821428571428571 \n",
      "\n",
      " recall score:  0.9482758620689655 \n",
      "\n",
      "              precision    recall  f1-score   support\n",
      "\n",
      "           0       0.93      0.98      0.95        42\n",
      "           1       0.98      0.95      0.96        58\n",
      "\n",
      "    accuracy                           0.96       100\n",
      "   macro avg       0.96      0.96      0.96       100\n",
      "weighted avg       0.96      0.96      0.96       100\n",
      "\n"
     ]
    }
   ],
   "source": [
    "print(' precision score: ',precision_score(y_test, y_pred),'\\n')\n",
    "print(' recall score: ',recall_score(y_test, y_pred),'\\n')\n",
    "print(classification_report(y_test, y_pred))"
   ]
  },
  {
   "cell_type": "code",
   "execution_count": 80,
   "metadata": {},
   "outputs": [
    {
     "name": "stdout",
     "output_type": "stream",
     "text": [
      " f1 score:  0.8571428571428571 \n",
      "\n",
      "[[36  4]\n",
      " [12 48]]\n"
     ]
    }
   ],
   "source": [
    "X_train, X_test, y_train, y_test= train_test_split(features,label, test_size= 0.25, random_state=43)\n",
    "\n",
    "Knnmodel= KNeighborsClassifier()  \n",
    "Knnmodel.fit(X_train, y_train)\n",
    "trainscore =  Knnmodel.score(X_train,y_train)\n",
    "testscore =  Knnmodel.score(X_test,y_test)  \n",
    "\n",
    "y_pred =  Knnmodel.predict(X_test)\n",
    "print(' f1 score: ',f1_score(y_test, y_pred),'\\n')\n",
    "print(confusion_matrix(y_test, y_pred))"
   ]
  },
  {
   "cell_type": "code",
   "execution_count": 81,
   "metadata": {},
   "outputs": [
    {
     "name": "stdout",
     "output_type": "stream",
     "text": [
      " precision score:  0.9230769230769231 \n",
      "\n",
      " recall score:  0.8 \n",
      "\n",
      "              precision    recall  f1-score   support\n",
      "\n",
      "           0       0.75      0.90      0.82        40\n",
      "           1       0.92      0.80      0.86        60\n",
      "\n",
      "    accuracy                           0.84       100\n",
      "   macro avg       0.84      0.85      0.84       100\n",
      "weighted avg       0.85      0.84      0.84       100\n",
      "\n"
     ]
    }
   ],
   "source": [
    "print(' precision score: ',precision_score(y_test, y_pred),'\\n')\n",
    "print(' recall score: ',recall_score(y_test, y_pred),'\\n')\n",
    "print(classification_report(y_test, y_pred))"
   ]
  },
  {
   "cell_type": "code",
   "execution_count": 82,
   "metadata": {},
   "outputs": [
    {
     "name": "stdout",
     "output_type": "stream",
     "text": [
      " f1 score:  0.9586776859504132 \n",
      "\n",
      "[[37  0]\n",
      " [ 5 58]]\n"
     ]
    }
   ],
   "source": [
    "X_train, X_test, y_train, y_test= train_test_split(features,label, test_size= 0.25, random_state=82)\n",
    "\n",
    "NBmodel=  GaussianNB()  \n",
    "NBmodel.fit(X_train, y_train)\n",
    "trainscore =  NBmodel.score(X_train,y_train)\n",
    "testscore =  NBmodel.score(X_test,y_test)  \n",
    "\n",
    "y_pred =  NBmodel.predict(X_test)\n",
    "print(' f1 score: ',f1_score(y_test, y_pred),'\\n')\n",
    "print(confusion_matrix(y_test, y_pred))"
   ]
  },
  {
   "cell_type": "code",
   "execution_count": 83,
   "metadata": {},
   "outputs": [
    {
     "name": "stdout",
     "output_type": "stream",
     "text": [
      " precision score:  1.0 \n",
      "\n",
      " recall score:  0.9206349206349206 \n",
      "\n",
      "              precision    recall  f1-score   support\n",
      "\n",
      "           0       0.88      1.00      0.94        37\n",
      "           1       1.00      0.92      0.96        63\n",
      "\n",
      "    accuracy                           0.95       100\n",
      "   macro avg       0.94      0.96      0.95       100\n",
      "weighted avg       0.96      0.95      0.95       100\n",
      "\n"
     ]
    }
   ],
   "source": [
    "print(' precision score: ',precision_score(y_test, y_pred),'\\n')\n",
    "print(' recall score: ',recall_score(y_test, y_pred),'\\n')\n",
    "print(classification_report(y_test, y_pred))"
   ]
  },
  {
   "cell_type": "code",
   "execution_count": 84,
   "metadata": {},
   "outputs": [
    {
     "name": "stdout",
     "output_type": "stream",
     "text": [
      "0.9990933333333333\n"
     ]
    },
    {
     "data": {
      "text/plain": [
       "[<matplotlib.lines.Line2D at 0x23fd03f3100>]"
      ]
     },
     "execution_count": 84,
     "metadata": {},
     "output_type": "execute_result"
    },
    {
     "data": {
      "image/png": "[encoded data removed]",
      "text/plain": [
       "<Figure size 432x288 with 1 Axes>"
      ]
     },
     "metadata": {
      "needs_background": "light"
     },
     "output_type": "display_data"
    }
   ],
   "source": [
    "probabilityValues = NBmodel.predict_proba(features)[:,1]\n",
    "#Calculate AUC\n",
    "auc = roc_auc_score(label,probabilityValues)\n",
    "print(auc)\n",
    "#Calculate roc_curve\n",
    "fpr,tpr, threshold =  roc_curve(label,probabilityValues)\n",
    "plt.plot([0,1],[0,1], linestyle = '--')\n",
    "plt.plot(fpr,tpr)"
   ]
  },
  {
   "cell_type": "code",
   "execution_count": 85,
   "metadata": {},
   "outputs": [
    {
     "name": "stdout",
     "output_type": "stream",
     "text": [
      "0.9745600000000001\n"
     ]
    },
    {
     "data": {
      "text/plain": [
       "[<matplotlib.lines.Line2D at 0x23fd0441c70>]"
      ]
     },
     "execution_count": 85,
     "metadata": {},
     "output_type": "execute_result"
    },
    {
     "data": {
      "image/png": "[encoded data removed]",
      "text/plain": [
       "<Figure size 432x288 with 1 Axes>"
      ]
     },
     "metadata": {
      "needs_background": "light"
     },
     "output_type": "display_data"
    }
   ],
   "source": [
    "probabilityValues = classimodel.predict_proba(features)[:,1]\n",
    "#Calculate AUC\n",
    "auc = roc_auc_score(label,probabilityValues)\n",
    "print(auc)\n",
    "#Calculate roc_curve\n",
    "fpr,tpr, threshold =  roc_curve(label,probabilityValues)\n",
    "plt.plot([0,1],[0,1], linestyle = '--')\n",
    "plt.plot(fpr,tpr)"
   ]
  }
 ],
 "metadata": {
  "kernelspec": {
   "display_name": "Python 3",
   "language": "python",
   "name": "python3"
  },
  "language_info": {
   "codemirror_mode": {
    "name": "ipython",
    "version": 3
   },
   "file_extension": ".py",
   "mimetype": "text/x-python",
   "name": "python",
   "nbconvert_exporter": "python",
   "pygments_lexer": "ipython3",
   "version": "3.8.8"
  }
 },
 "nbformat": 4,
 "nbformat_minor": 4
}
