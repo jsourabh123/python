{
 "cells": [
  {
   "cell_type": "code",
   "execution_count": 2,
   "id": "9d354b72",
   "metadata": {},
   "outputs": [],
   "source": [
    "#decorator\n",
    "\n",
    "def decorator_func(func):\n",
    "    def wrapper_func():\n",
    "        func()\n",
    "    print(\"decorator function works!!\")\n",
    "    return wrapper_func\n",
    "def show():\n",
    "    print(\"show function works!!\")"
   ]
  },
  {
   "cell_type": "code",
   "execution_count": 3,
   "id": "c31d19fc",
   "metadata": {},
   "outputs": [
    {
     "name": "stdout",
     "output_type": "stream",
     "text": [
      "decorator function works!!\n"
     ]
    }
   ],
   "source": [
    "decorator_show = decorator_func(show)"
   ]
  },
  {
   "cell_type": "code",
   "execution_count": 4,
   "id": "281e6998",
   "metadata": {},
   "outputs": [
    {
     "name": "stdout",
     "output_type": "stream",
     "text": [
      "show function works!!\n"
     ]
    }
   ],
   "source": [
    "decorator_show()"
   ]
  },
  {
   "cell_type": "markdown",
   "id": "823e3070",
   "metadata": {},
   "source": [
    "@decorator_func\n",
    "def show2():\n",
    "    print(\"show2 function works!!\")\n",
    "    \n",
    "    \n",
    "this is equivalent to \n",
    "\n",
    "\n",
    "def show2():\n",
    "    print(\"show2 function works!!\")\n",
    "decorator_show = decorator_func(show)"
   ]
  },
  {
   "cell_type": "code",
   "execution_count": 6,
   "id": "5db9c7a2",
   "metadata": {},
   "outputs": [
    {
     "name": "stdout",
     "output_type": "stream",
     "text": [
      "show2 function works!!\n"
     ]
    }
   ],
   "source": [
    "show2()"
   ]
  },
  {
   "cell_type": "code",
   "execution_count": null,
   "id": "41b4c809",
   "metadata": {},
   "outputs": [],
   "source": []
  }
 ],
 "metadata": {
  "kernelspec": {
   "display_name": "Python 3 (ipykernel)",
   "language": "python",
   "name": "python3"
  },
  "language_info": {
   "codemirror_mode": {
    "name": "ipython",
    "version": 3
   },
   "file_extension": ".py",
   "mimetype": "text/x-python",
   "name": "python",
   "nbconvert_exporter": "python",
   "pygments_lexer": "ipython3",
   "version": "3.8.12"
  }
 },
 "nbformat": 4,
 "nbformat_minor": 5
}
