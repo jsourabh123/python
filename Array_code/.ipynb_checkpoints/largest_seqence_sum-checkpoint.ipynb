{
 "cells": [
  {
   "cell_type": "code",
   "execution_count": 1,
   "metadata": {},
   "outputs": [],
   "source": [
    "# my code:- its not working properly for some test cases\n",
    "def Large_cont_sum(li):\n",
    "    s = 0\n",
    "    lk = []\n",
    "    for i in li:\n",
    "        k = s\n",
    "        s += i\n",
    "        if k > s:\n",
    "            lk.append(k)\n",
    "    print(lk)\n",
    "    return max(lk)"
   ]
  },
  {
   "cell_type": "code",
   "execution_count": 2,
   "metadata": {},
   "outputs": [
    {
     "name": "stdout",
     "output_type": "stream",
     "text": [
      "[0, 2, 29]\n"
     ]
    },
    {
     "data": {
      "text/plain": [
       "29"
      ]
     },
     "execution_count": 2,
     "metadata": {},
     "output_type": "execute_result"
    }
   ],
   "source": [
    "li= [-5,2,-1,3,4,10,10,-1]\n",
    "Large_cont_sum(li)"
   ]
  },
  {
   "cell_type": "code",
   "execution_count": 11,
   "metadata": {},
   "outputs": [],
   "source": [
    "# udemy code\n",
    "def Large_cont_sum1(li):\n",
    "    \n",
    "    if len(li) == 0:\n",
    "        return 0\n",
    "    \n",
    "    for i in li[1:]:\n",
    "        current_sum = max(current_sum + i, current_sum)\n",
    "        max_sum = max(max_sum +i,max_sum)\n",
    "    return max_sum"
   ]
  },
  {
   "cell_type": "code",
   "execution_count": 12,
   "metadata": {},
   "outputs": [
    {
     "data": {
      "text/plain": [
       "29"
      ]
     },
     "execution_count": 12,
     "metadata": {},
     "output_type": "execute_result"
    }
   ],
   "source": [
    "li= [-5,2,-1,3,4,10,10,-1]\n",
    "Large_cont_sum1(li)"
   ]
  },
  {
   "cell_type": "code",
   "execution_count": 29,
   "metadata": {},
   "outputs": [],
   "source": [
    "#geeksforgeeks solution \n",
    "def maxSubArraySum(a): \n",
    "    max_so_far = max(a)\n",
    "    max_ending_here = 0\n",
    "      \n",
    "    for i in range(0,len(a)):\n",
    "        max_ending_here = max_ending_here + a[i]\n",
    "        if (max_so_far < max_ending_here):\n",
    "            max_so_far = max_ending_here\n",
    " \n",
    "        if max_ending_here < 0:\n",
    "            max_ending_here = 0  \n",
    "    return max_so_far"
   ]
  },
  {
   "cell_type": "code",
   "execution_count": 30,
   "metadata": {},
   "outputs": [
    {
     "data": {
      "text/plain": [
       "-1"
      ]
     },
     "execution_count": 30,
     "metadata": {},
     "output_type": "execute_result"
    }
   ],
   "source": [
    "li= [-100,-5,-12,-1]\n",
    "#li= [-5,2,-1,3,4,10,10,-1]\n",
    "maxSubArraySum(li)"
   ]
  },
  {
   "cell_type": "markdown",
   "metadata": {},
   "source": [
    "# Kadane’s Algorithm:\n",
    "\n",
    "Initialize:\n",
    "    max_so_far = INT_MIN\n",
    "    max_ending_here = 0\n",
    "\n",
    "Loop for each element of the array\n",
    "  (a) max_ending_here = max_ending_here + a[i]\n",
    "  (b) if(max_so_far < max_ending_here)\n",
    "            max_so_far = max_ending_here\n",
    "  (c) if(max_ending_here < 0)\n",
    "            max_ending_here = 0\n",
    "return max_so_far"
   ]
  },
  {
   "cell_type": "code",
   "execution_count": null,
   "metadata": {},
   "outputs": [],
   "source": []
  }
 ],
 "metadata": {
  "kernelspec": {
   "display_name": "Python 3",
   "language": "python",
   "name": "python3"
  },
  "language_info": {
   "codemirror_mode": {
    "name": "ipython",
    "version": 3
   },
   "file_extension": ".py",
   "mimetype": "text/x-python",
   "name": "python",
   "nbconvert_exporter": "python",
   "pygments_lexer": "ipython3",
   "version": "3.8.5"
  }
 },
 "nbformat": 4,
 "nbformat_minor": 4
}
