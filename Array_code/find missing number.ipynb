{
 "cells": [
  {
   "cell_type": "code",
   "execution_count": 2,
   "metadata": {},
   "outputs": [],
   "source": [
    "# my solution O(n^2)\n",
    "def finder(li1,li2):\n",
    "    for i in li1:\n",
    "        k = 0\n",
    "        for j in li2:\n",
    "            k += 1\n",
    "            if i == j:\n",
    "                li2.remove(j)\n",
    "                break \n",
    "            elif k == len(li2):\n",
    "                print('missing number is:- ',i)\n",
    "                "
   ]
  },
  {
   "cell_type": "code",
   "execution_count": 23,
   "metadata": {},
   "outputs": [
    {
     "name": "stdout",
     "output_type": "stream",
     "text": [
      "missing number is:-  10\n"
     ]
    }
   ],
   "source": [
    "test1 = [1,2,3,4,7,10]\n",
    "test2 = [3,7,1,4,6,2]\n",
    "finder(test1,test2)"
   ]
  },
  {
   "cell_type": "code",
   "execution_count": 26,
   "metadata": {},
   "outputs": [],
   "source": [
    "# udemy solution O(n(2logn + n))\n",
    "\n",
    "def finder1(li1,li2):\n",
    "    li1.sort()\n",
    "    li2.sort()\n",
    "    for num1,num2 in zip(li1,li2):\n",
    "        if num1 != num2:\n",
    "            return num1\n",
    "    return 0"
   ]
  },
  {
   "cell_type": "code",
   "execution_count": 27,
   "metadata": {},
   "outputs": [
    {
     "data": {
      "text/plain": [
       "5"
      ]
     },
     "execution_count": 27,
     "metadata": {},
     "output_type": "execute_result"
    }
   ],
   "source": [
    "test1 = [5,5,7,7]\n",
    "test2 = [5,7,7]\n",
    "finder1(test1,test2)"
   ]
  },
  {
   "cell_type": "code",
   "execution_count": 34,
   "metadata": {},
   "outputs": [],
   "source": [
    "# udemy solution O(n(2logn + n))\n",
    "import collections\n",
    "\n",
    "\n",
    "def finder2(li1,li2):\n",
    "    d = collections.defaultdict(int)\n",
    "    for i in li2:\n",
    "        d[i] += 1\n",
    "    print(d)\n",
    "    for j in li1:\n",
    "        if d[j] == 0:\n",
    "            return j\n",
    "        else:\n",
    "            d[j] -= 1\n",
    "        "
   ]
  },
  {
   "cell_type": "code",
   "execution_count": 35,
   "metadata": {},
   "outputs": [
    {
     "name": "stdout",
     "output_type": "stream",
     "text": [
      "defaultdict(<class 'int'>, {5: 1, 7: 2})\n"
     ]
    },
    {
     "data": {
      "text/plain": [
       "5"
      ]
     },
     "execution_count": 35,
     "metadata": {},
     "output_type": "execute_result"
    }
   ],
   "source": [
    "test1 = [5,5,7,7]\n",
    "test2 = [5,7,7]\n",
    "finder2(test1,test2)"
   ]
  },
  {
   "cell_type": "code",
   "execution_count": null,
   "metadata": {},
   "outputs": [],
   "source": []
  }
 ],
 "metadata": {
  "kernelspec": {
   "display_name": "Python 3 (ipykernel)",
   "language": "python",
   "name": "python3"
  },
  "language_info": {
   "codemirror_mode": {
    "name": "ipython",
    "version": 3
   },
   "file_extension": ".py",
   "mimetype": "text/x-python",
   "name": "python",
   "nbconvert_exporter": "python",
   "pygments_lexer": "ipython3",
   "version": "3.8.12"
  }
 },
 "nbformat": 4,
 "nbformat_minor": 4
}
