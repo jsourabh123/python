{
 "cells": [
  {
   "cell_type": "markdown",
   "id": "dacf4ef4",
   "metadata": {},
   "source": [
    "# balenced parentheses check \n"
   ]
  },
  {
   "cell_type": "code",
   "execution_count": 17,
   "id": "31448f56",
   "metadata": {},
   "outputs": [],
   "source": [
    "def balence(st):\n",
    "    open_set = set('{([')\n",
    "    matches = set([('{','}'),('[',']'),('(',')')])\n",
    "    stack = []\n",
    "    for x in st:\n",
    "        if x in open_set:\n",
    "            stack.append(x)\n",
    "        else:\n",
    "            if len(stack) == 0:\n",
    "                return False\n",
    "            latest_open = stack.pop()\n",
    "            print()\n",
    "            if (latest_open,x) not in matches:\n",
    "                #print('new')\n",
    "                return False\n",
    "    #print(len(stack))                  \n",
    "    return len(stack) == 0"
   ]
  },
  {
   "cell_type": "code",
   "execution_count": 19,
   "id": "bb7ccfad",
   "metadata": {},
   "outputs": [
    {
     "name": "stdout",
     "output_type": "stream",
     "text": [
      "\n",
      "\n"
     ]
    },
    {
     "data": {
      "text/plain": [
       "False"
      ]
     },
     "execution_count": 19,
     "metadata": {},
     "output_type": "execute_result"
    }
   ],
   "source": [
    "balence('[]{(}')"
   ]
  },
  {
   "cell_type": "code",
   "execution_count": null,
   "id": "0be79ca4",
   "metadata": {},
   "outputs": [],
   "source": []
  }
 ],
 "metadata": {
  "kernelspec": {
   "display_name": "Python 3",
   "language": "python",
   "name": "python3"
  },
  "language_info": {
   "codemirror_mode": {
    "name": "ipython",
    "version": 3
   },
   "file_extension": ".py",
   "mimetype": "text/x-python",
   "name": "python",
   "nbconvert_exporter": "python",
   "pygments_lexer": "ipython3",
   "version": "3.8.8"
  }
 },
 "nbformat": 4,
 "nbformat_minor": 5
}
